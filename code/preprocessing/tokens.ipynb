{
 "cells": [
  {
   "cell_type": "markdown",
   "id": "81fd2d59",
   "metadata": {},
   "source": [
    "## Tokens"
   ]
  },
  {
   "cell_type": "markdown",
   "id": "c78c2389",
   "metadata": {},
   "source": [
    "We breifly mentioned the word token in the last section, where I described it as a word. In some cases this is true, in others not. A token is a single unit, or piece of information. Typically in NLP we will find that models consume a token, which can represent a multitude of different things, such as:\n",
    "\n",
    "A word\n",
    "Part of a word\n",
    "A single character\n",
    "Puntuation mark [,!-.]\n",
    "Special token like , or\n",
    "Model-specific special tokens, like [CLS] and [SEP] for BERT\n",
    "Taking our previous tweet example, we can `split` it into word tokens using the split method:"
   ]
  },
  {
   "cell_type": "code",
   "execution_count": 2,
   "id": "7770ce0c",
   "metadata": {},
   "outputs": [
    {
     "data": {
      "text/plain": [
       "['I’m',\n",
       " 'amazed',\n",
       " 'how',\n",
       " 'often',\n",
       " 'in',\n",
       " 'practice,',\n",
       " 'not',\n",
       " 'only',\n",
       " 'does',\n",
       " 'a',\n",
       " '@huggingface',\n",
       " 'NLP',\n",
       " 'model',\n",
       " 'solve',\n",
       " 'your',\n",
       " 'problem,',\n",
       " 'but',\n",
       " 'one',\n",
       " 'of',\n",
       " 'their',\n",
       " 'public',\n",
       " 'finetuned',\n",
       " 'checkpoints,',\n",
       " 'is',\n",
       " 'good',\n",
       " 'enough',\n",
       " 'for',\n",
       " 'the',\n",
       " 'job.',\n",
       " 'Both',\n",
       " 'impressed,',\n",
       " 'and',\n",
       " 'a',\n",
       " 'little',\n",
       " 'disappointed',\n",
       " 'how',\n",
       " 'rarely',\n",
       " 'I',\n",
       " 'get',\n",
       " 'to',\n",
       " 'actually',\n",
       " 'train',\n",
       " 'a',\n",
       " 'model',\n",
       " 'that',\n",
       " 'matters',\n",
       " ':(']"
      ]
     },
     "execution_count": 2,
     "metadata": {},
     "output_type": "execute_result"
    }
   ],
   "source": [
    "tweet = \"\"\"I’m amazed how often in practice, not only does a @huggingface NLP model solve your problem, but one of their public finetuned checkpoints, is good enough for the job.\n",
    "\n",
    "Both impressed, and a little disappointed how rarely I get to actually train a model that matters :(\"\"\"\n",
    "\n",
    "tweet.split()\n",
    "\n"
   ]
  },
  {
   "cell_type": "markdown",
   "id": "d7f5e07c",
   "metadata": {},
   "source": [
    "This is the rawest form of word-level tokens, the alternative to word-level is character-level, which looks like this:"
   ]
  },
  {
   "cell_type": "code",
   "execution_count": 3,
   "id": "79155003",
   "metadata": {},
   "outputs": [
    {
     "data": {
      "text/plain": [
       "['I',\n",
       " '’',\n",
       " 'm',\n",
       " ' ',\n",
       " 'a',\n",
       " 'm',\n",
       " 'a',\n",
       " 'z',\n",
       " 'e',\n",
       " 'd',\n",
       " ' ',\n",
       " 'h',\n",
       " 'o',\n",
       " 'w',\n",
       " ' ',\n",
       " 'o',\n",
       " 'f',\n",
       " 't',\n",
       " 'e',\n",
       " 'n']"
      ]
     },
     "execution_count": 3,
     "metadata": {},
     "output_type": "execute_result"
    }
   ],
   "source": [
    "[char for char in tweet][:20]"
   ]
  },
  {
   "cell_type": "markdown",
   "id": "03c39b1d",
   "metadata": {},
   "source": [
    "The 'advantage' of using character-level embeddings is that any models we train on this data will only need to remember all of the characters of the alphabet, punctuation characters, and spaces/newlines. So the model vocabulary (list of all the tokens it knows) is very small. Additionally if a new word appears outside of training, the model will still be able to digest it - whereas a word-level embedding model would not understand the new word and replace it with an unknown token (more on this soon).\n",
    "\n",
    "It's not all good news for character-level embeddings though. Words carry a significant level of semantic meaning, and when we use character-level embedding this is mostly lost. At a high-level we can view character-level embedding as being good for syntax, and word-level embedding as being better for semantics. Although, in-reality, word-level embeddings almost always outpeform character-level embeddings.\n",
    "\n",
    "Back to word-level embeddings, we will often find with the latest transformer models that text can be split into part-word tokens. So for example, we may find that the word 'being' is split into the tokens [\"be\", \"-ing\"], or 'amazingly' to [\"amaz\", \"-ing\", \"-ly\"].\n",
    "\n",
    "In addition to this, we typically seperate punctuation too, so in our previous example the tokens '@huggingface' and 'impressed,' would become [\"@\", \"huggingface\"] and [\"impressed\", \",\"] respectively.\n",
    "\n",
    "In our tweet we might want to find any token that begins with @ and convert that token to , a unique token that we have specified to identify usernames in our tweets. This rule is logical as there are potentially millions of added tokens in our model if we include Twitter usernames, but the username doesn't tell our model anything about the meaning in the language of the text, for example:\n",
    "\n",
    "`@elonmusk thinks that the NLP models that @joebloggs made are super cool`\n",
    "\n",
    "Has no real meaningful difference to our model as with:\n",
    "\n",
    "`@joebloggs thinks that the NLP models that @huggingface made are super cool`\n",
    "\n",
    "The meaning and subsequent classification of both tweets should really be identical in our model. So, it is logical to replace usernames with a single shared token. This approach is something that is commonly used for many different things such as:\n",
    "\n",
    "* emails\n",
    "* names/usernames\n",
    "* URLs\n",
    "* monetary values\n",
    "* or any other numbers\n",
    "\n",
    "But of course we don't always want to do this for everything, this is simply a rough guide as to what we may want to tokenize.\n",
    "\n",
    "Finally, we also need to understand model-specific special tokens. We will do this with an example.\n",
    "\n"
   ]
  },
  {
   "cell_type": "code",
   "execution_count": null,
   "id": "67700d43",
   "metadata": {},
   "outputs": [],
   "source": []
  }
 ],
 "metadata": {
  "kernelspec": {
   "display_name": "Python 3 (ipykernel)",
   "language": "python",
   "name": "python3"
  },
  "language_info": {
   "codemirror_mode": {
    "name": "ipython",
    "version": 3
   },
   "file_extension": ".py",
   "mimetype": "text/x-python",
   "name": "python",
   "nbconvert_exporter": "python",
   "pygments_lexer": "ipython3",
   "version": "3.9.7"
  }
 },
 "nbformat": 4,
 "nbformat_minor": 5
}
